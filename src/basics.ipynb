{
 "nbformat": 4,
 "nbformat_minor": 2,
 "metadata": {
  "language_info": {
   "name": "python",
   "codemirror_mode": {
    "name": "ipython",
    "version": 3
   },
   "version": "3.7.1"
  },
  "orig_nbformat": 2,
  "file_extension": ".py",
  "mimetype": "text/x-python",
  "name": "python",
  "npconvert_exporter": "python",
  "pygments_lexer": "ipython3",
  "version": 3
 },
 "cells": [
  {
   "cell_type": "markdown",
   "execution_count": null,
   "metadata": {},
   "outputs": [],
   "source": [
    "# Type conversion"
   ]
  },
  {
   "cell_type": "code",
   "execution_count": 4,
   "metadata": {},
   "outputs": [
    {
     "name": "stdout",
     "output_type": "stream",
     "text": "True\n2\n2.0\n4 <class 'str'>\n"
    }
   ],
   "source": [
    "string_bool = \"False\" # it is going to pase as True cause any non-empty string is True\n",
    "string_int = \"2\"\n",
    "\n",
    "real_bool = bool(string_bool)\n",
    "real_int = int(string_int)\n",
    "real_float = float(string_int)\n",
    "\n",
    "int_string = 4\n",
    "real_string = str(4)\n",
    "\n",
    "print(real_bool)\n",
    "print(real_int)\n",
    "print(real_float)\n",
    "print(real_string, type(real_string))"
   ]
  },
  {
   "cell_type": "markdown",
   "execution_count": null,
   "metadata": {},
   "outputs": [],
   "source": [
    "# For-Else\n",
    "\n",
    "For-else needs a break inside the for to make sense. The else block is executed if the iteration ended because naturally (not because of the break) "
   ]
  },
  {
   "cell_type": "code",
   "execution_count": 1,
   "metadata": {},
   "outputs": [
    {
     "name": "stdout",
     "output_type": "stream",
     "text": "0\n1\n2\nx is never equal to 3\n"
    }
   ],
   "source": [
    "for x in range(3):\n",
    "    print(x)\n",
    "    if (x == 3):\n",
    "        break\n",
    "else:\n",
    "    print(\"x is never equal to 3\")"
   ]
  },
  {
   "cell_type": "markdown",
   "execution_count": 2,
   "metadata": {},
   "outputs": [
    {
     "name": "stdout",
     "output_type": "stream",
     "text": "This is cool\n"
    }
   ],
   "source": [
    "# Python Truthy\n",
    "\n",
    "False for 0, \"\" and None. Otherwise, it is true"
   ]
  },
  {
   "cell_type": "code",
   "execution_count": 5,
   "metadata": {},
   "outputs": [
    {
     "name": "stdout",
     "output_type": "stream",
     "text": "False\nFalse\nFalse\nTrue\nTrue\nTrue\n"
    }
   ],
   "source": [
    "print(bool(\"\"))\n",
    "print(bool(0))\n",
    "print(bool(None))\n",
    "print(bool(-4))\n",
    "print(bool(\"False\"))\n",
    "print(bool(str))"
   ]
  },
  {
   "cell_type": "markdown",
   "execution_count": null,
   "metadata": {},
   "outputs": [],
   "source": [
    "# Chaning Comparasion\n"
   ]
  },
  {
   "cell_type": "code",
   "execution_count": 7,
   "metadata": {},
   "outputs": [
    {
     "name": "stdout",
     "output_type": "stream",
     "text": "It's a young adult\n"
    }
   ],
   "source": [
    "age = 30\n",
    "\n",
    "# if age >= 18 and age < 60 (don't)\n",
    "\n",
    "if 18 <= age < 60:\n",
    "    print(\"It's a young adult\")"
   ]
  }
 ]
}